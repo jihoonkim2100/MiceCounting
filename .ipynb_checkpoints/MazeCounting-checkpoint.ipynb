{
 "cells": [
  {
   "cell_type": "markdown",
   "metadata": {},
   "source": [
    "# Maze Automated Calculator"
   ]
  },
  {
   "cell_type": "markdown",
   "metadata": {},
   "source": [
    "This is a prototype: Maze Automated Calculator for Y-maze and Cross-maze. It calculates the SAP with percentage and, information about number of Arm Entry.\n",
    "Author: JiHoonKim, Last modified 01.07.2020."
   ]
  },
  {
   "cell_type": "markdown",
   "metadata": {},
   "source": [
    "## 1. Y_Maze"
   ]
  },
  {
   "cell_type": "code",
   "execution_count": 1,
   "metadata": {},
   "outputs": [],
   "source": [
    "def Spell_Y(S):\n",
    "    \"\"\"\n",
    "    S: string, the input of the entry Arm: A, B, and C.\n",
    "    This function extracts only ABC in the string input, and return the modified input.\n",
    "    \n",
    "    Example:\n",
    "    Input: \"ABC BCAA B\"\n",
    "    Ouput: \"ABCBCAAB\"\n",
    "    \"\"\"\n",
    "    # Change it to uppercase.\n",
    "    S = S.upper()\n",
    "    string = ''\n",
    "    # Extract only the entry Arm: A, B, C.\n",
    "    for C in S:\n",
    "        if C in 'ABC':\n",
    "            string = string + C\n",
    "    return string"
   ]
  },
  {
   "cell_type": "code",
   "execution_count": 2,
   "metadata": {},
   "outputs": [],
   "source": [
    "def SAP_Y(string):\n",
    "    \"\"\"\n",
    "    string: the string only contained: A, B, and C.\n",
    "    Compute the SAP, SAP(&), number of Arm Entry, and index of the counitng, and\n",
    "    \n",
    "    Example:\n",
    "    Input: \"ABCBA\"\n",
    "    Output: number, percent\n",
    "    \"\"\"\n",
    "    print(\"This is the Y Maze result:\")\n",
    "    number = 0\n",
    "    print('Arm entry count:', len(string))\n",
    "    for i in range(len(string)-2):\n",
    "        A = string[i:i+3]       # Search section setting\n",
    "        num = i+1               # Position index\n",
    "        # Counting only SAP case\n",
    "        if (A == 'ABC'):\n",
    "            number += 1\n",
    "            print('position:', num,'Count= ABC')\n",
    "        elif (A == 'ACB'):\n",
    "            number += 1\n",
    "            print('position:', num,'Count= ACB')\n",
    "        elif (A == 'BAC'):\n",
    "            number += 1\n",
    "            print('position:', num,'Count= BAC')\n",
    "        elif (A == 'BCA'):\n",
    "            number += 1\n",
    "            print('position:', num,'Count= BCA')\n",
    "        elif (A == 'CAB'):\n",
    "            number += 1\n",
    "            print('position:', num,'Count= CAB')\n",
    "        elif (A == 'CBA'):\n",
    "            number += 1\n",
    "            print('position:', num,'Count= CBA')\n",
    "        percent = number/(len(string)-2)*100\n",
    "    return number, percent"
   ]
  },
  {
   "cell_type": "markdown",
   "metadata": {},
   "source": [
    "## 2. Cross_Maze"
   ]
  },
  {
   "cell_type": "code",
   "execution_count": 3,
   "metadata": {},
   "outputs": [],
   "source": [
    "def Spell_C(S):\n",
    "    \"\"\"\n",
    "    S: string, the input of the entry Arm: A, B, C, and D.\n",
    "    This function extracts only ABCD in the string input, and return the modified input. \n",
    "    \n",
    "    Example:\n",
    "    Input: \"ABCD BCAA BD\"\n",
    "    Ouput: \"ABCDBCAABD\"\n",
    "    \"\"\"\n",
    "    S = S.upper()\n",
    "    string = ''\n",
    "    for C in S:\n",
    "        if C in 'ABCD':\n",
    "            string = string + C\n",
    "    return string"
   ]
  },
  {
   "cell_type": "code",
   "execution_count": 4,
   "metadata": {},
   "outputs": [],
   "source": [
    "def SAP_C(string):\n",
    "    \"\"\"\n",
    "    string: the string only contained: A, B, C, and D.\n",
    "    Compute the SAP, SAP(&), number of Arm Entry, and index of the counitng, and\n",
    "    \n",
    "    Example:\n",
    "    Input: \"ABCDBAD\"\n",
    "    Output: number, percent\n",
    "    \"\"\"\n",
    "    print(\"This is the Cross Maze result:\")\n",
    "    number = 0\n",
    "    print('Arm entry count:',len(string))\n",
    "    # Counting only SAP case\n",
    "    for i in range(len(string)-3):\n",
    "        A = string[i:i+4]    # Search section setting\n",
    "        num = i+1            # Position index\n",
    "        if (A == 'ABCD'):\n",
    "            print(num,' position: Count= ABCD')\n",
    "            number += 1\n",
    "        elif (A == 'ABDC'):\n",
    "            number += 1\n",
    "            print(num,' position: Count= ABDC')\n",
    "        elif (A == 'ACBD'):\n",
    "            number += 1\n",
    "            print(num,' position: Count= ACBD')\n",
    "        elif (A == 'ACDB'):\n",
    "            number += 1\n",
    "            print(num,' position: Count= ACDB')\n",
    "        elif (A == 'ADBC'):\n",
    "            number += 1\n",
    "            print(num,' position: Count= ADBC')\n",
    "        elif (A == 'ADCB'):\n",
    "            number += 1\n",
    "            print(num,' position: Count= ADCB')\n",
    "        elif (A == 'BACD'):\n",
    "            number += 1\n",
    "            print(num,' position: Count= BACD')\n",
    "        elif (A == 'BADC'):\n",
    "            number += 1\n",
    "            print(num,' position: Count= BADC')\n",
    "        elif (A == 'BCAD'):\n",
    "            number += 1\n",
    "            print(num,' position: Count= BACD')\n",
    "        elif (A == 'BCDA'):\n",
    "            number += 1\n",
    "            print(num,' position: Count= BCDA')\n",
    "        elif (A == 'BDAC'):\n",
    "            number += 1\n",
    "            print(num,' position: Count= BDAC')\n",
    "        elif (A == 'BDCA'):\n",
    "            number += 1\n",
    "            print(num,' position: Count= BDCA')\n",
    "        elif (A == 'CABD'):\n",
    "            number += 1\n",
    "            print(num,' position: Count= CABD')\n",
    "        elif (A == 'CADB'):\n",
    "            number += 1\n",
    "            print(num,' position: Count= CADB')\n",
    "        elif (A == 'CBAD'):\n",
    "            number += 1\n",
    "            print(num,' position: Count= CBAD')\n",
    "        elif (A == 'CBDA'):\n",
    "            number += 1\n",
    "            print(num,' position: Count= CBDA')\n",
    "        elif (A == 'CDAB'):\n",
    "            number += 1\n",
    "            print(num,' position: Count= CDAB')\n",
    "        elif (A == 'CDBA'):\n",
    "            number += 1\n",
    "            print(num,' position: Count= CDBA')\n",
    "        elif (A == 'DABC'):\n",
    "            number += 1\n",
    "            print(num,' position: Count= DABC')\n",
    "        elif (A == 'DACB'):\n",
    "            number += 1\n",
    "            print(num,' position: Count= DACB')\n",
    "        elif (A == 'DBAC'):\n",
    "            number += 1\n",
    "            print(num,' position: Count= DBAC')\n",
    "        elif (A == 'DBCA'):\n",
    "            number += 1\n",
    "            print(num,' position: Count= DBCA')\n",
    "        elif (A == 'DCAB'):\n",
    "            number += 1\n",
    "            print(num,' position: Count= DCAB')\n",
    "        elif (A == 'DCBA'):\n",
    "            number += 1\n",
    "            print(num,' position: Count= DCBA')\n",
    "        percent = number/(len(string)-3)*100\n",
    "    return number,percent"
   ]
  },
  {
   "cell_type": "markdown",
   "metadata": {},
   "source": [
    "## 3. Interface"
   ]
  },
  {
   "cell_type": "code",
   "execution_count": 5,
   "metadata": {},
   "outputs": [],
   "source": [
    "def interface(type, input):\n",
    "    \"\"\"\n",
    "    type: Y or C. Y is Y_Maze, and C is Cross_Maze\n",
    "    input: string one to compute.\n",
    "    It applys the inputs of both Y maze and Cross maze separately.\n",
    "    \n",
    "    Example:\n",
    "    Input: 'C', 'CDADADCACABDBDBDBDCBDCACA'\n",
    "    \"\"\"\n",
    "    print(\"Welcome the maze counting!\")   \n",
    "    if type == 'Y':\n",
    "        if 'D' in input:\n",
    "            print(\"Please check the type: it can be not Y but C\")\n",
    "        else:\n",
    "            print('(Count, Alternative ratio): ', SAP_Y(Spell_Y(input)))\n",
    "    elif type == 'C':\n",
    "        print('(Count, Alternative ratio): ', SAP_C(Spell_C(input)))\n",
    "    else:\n",
    "        print(\"It's a wrong type\")\n",
    "    a = \"Completed\"\n",
    "    return a"
   ]
  },
  {
   "cell_type": "markdown",
   "metadata": {},
   "source": [
    "## 4. Example"
   ]
  },
  {
   "cell_type": "code",
   "execution_count": 6,
   "metadata": {},
   "outputs": [
    {
     "name": "stdout",
     "output_type": "stream",
     "text": [
      "Welcome the maze counting!\n",
      "This is the Y Maze result:\n",
      "Arm entry count: 11\n",
      "position: 3 Count= BCA\n",
      "position: 4 Count= CAB\n",
      "position: 5 Count= ABC\n",
      "position: 9 Count= BAC\n",
      "(Count, Alternative ratio):  (4, 44.44444444444444)\n",
      "Completed\n"
     ]
    }
   ],
   "source": [
    "print(interface('Y', 'BCBCABCBBAC'))"
   ]
  },
  {
   "cell_type": "code",
   "execution_count": 7,
   "metadata": {},
   "outputs": [
    {
     "name": "stdout",
     "output_type": "stream",
     "text": [
      "Welcome the maze counting!\n",
      "This is the Cross Maze result:\n",
      "Arm entry count: 35\n",
      "9  position: Count= CABD\n",
      "10  position: Count= ABDC\n",
      "14  position: Count= BDCA\n",
      "15  position: Count= DCAB\n",
      "16  position: Count= CABD\n",
      "17  position: Count= ABDC\n",
      "30  position: Count= BDCA\n",
      "(Count, Alternative ratio):  (7, 21.875)\n",
      "Completed\n"
     ]
    }
   ],
   "source": [
    "print(interface('C', 'CDADADCACABDCBDCABDCBDBCDDBDCBDCACCenter'))"
   ]
  }
 ],
 "metadata": {
  "kernelspec": {
   "display_name": "Python 3",
   "language": "python",
   "name": "python3"
  },
  "language_info": {
   "codemirror_mode": {
    "name": "ipython",
    "version": 3
   },
   "file_extension": ".py",
   "mimetype": "text/x-python",
   "name": "python",
   "nbconvert_exporter": "python",
   "pygments_lexer": "ipython3",
   "version": "3.7.6"
  }
 },
 "nbformat": 4,
 "nbformat_minor": 4
}
